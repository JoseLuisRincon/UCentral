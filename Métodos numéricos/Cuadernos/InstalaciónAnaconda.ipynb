{
 "cells": [
  {
   "cell_type": "markdown",
   "metadata": {
    "colab_type": "text",
    "id": "3NWQxsk82jqB"
   },
   "source": [
    "# Instalación de Anaconda"
   ]
  },
  {
   "cell_type": "markdown",
   "metadata": {
    "colab_type": "text",
    "id": "tDnTKxtj3A-Q"
   },
   "source": [
    "**Estudiantes:** *Castillo Daniel, Hernández Gisell y Rincón Jose.*"
   ]
  },
  {
   "cell_type": "markdown",
   "metadata": {
    "colab_type": "text",
    "id": "Hj442BWo2G8i"
   },
   "source": [
    "Anaconda es un distribución libre y abierta​ de los lenguajes Python y R, utilizada en ciencia de datos, y aprendizaje automático. Esto incluye procesamiento de grandes volúmenes de información, análisis predictivo y cómputos científicos.\n",
    "\n",
    "![PythonLogo.png](https://raw.githubusercontent.com/JoseLuisRincon/UCentral/master/M%C3%A9todos%20num%C3%A9ricos/Im%C3%A1genes/Instalaci%C3%B3n%20Anaconda/pylogo.png)"
   ]
  },
  {
   "cell_type": "markdown",
   "metadata": {
    "colab_type": "text",
    "id": "fLwW9muK5U0S"
   },
   "source": [
    "# Instalación"
   ]
  },
  {
   "cell_type": "markdown",
   "metadata": {
    "colab_type": "text",
    "id": "t1ZREBCI9fRj"
   },
   "source": [
    "**1.** En el buscador de **Google** colocar \"Anaconda descargar\".\n",
    "\n",
    "![1](https://github.com/JoseLuisRincon/UCentral/blob/master/M%C3%A9todos%20num%C3%A9ricos/Im%C3%A1genes/Instalaci%C3%B3n%20Anaconda/9b0fb603-e00b-4a91-bcfc-d9b13925df42.png?raw=true)\n",
    "\n",
    "**2.** Se da clic al primer resultado, el cual nos redirige a la pagina oficial de **Anaconda**\n",
    "\n",
    "![2](https://github.com/JoseLuisRincon/UCentral/blob/master/M%C3%A9todos%20num%C3%A9ricos/Im%C3%A1genes/Instalaci%C3%B3n%20Anaconda/d0655b96-6b45-4801-939b-702bcb601779.png?raw=true)\n",
    "\n",
    "**3.** Clic en \"Download\"\n",
    "\n",
    "![3](https://github.com/JoseLuisRincon/UCentral/blob/master/M%C3%A9todos%20num%C3%A9ricos/Im%C3%A1genes/Instalaci%C3%B3n%20Anaconda/e1d2e97b-90b7-49c0-9917-5cf7e9b5900f.png?raw=true)\n",
    "\n",
    "**4.** Se elije la versión querida, en este caso instalaremos **Anaconda - Python 3.7** y empezara la descarga.\n",
    "\n",
    "![4](https://github.com/JoseLuisRincon/UCentral/blob/master/M%C3%A9todos%20num%C3%A9ricos/Im%C3%A1genes/Instalaci%C3%B3n%20Anaconda/15b4dfb8-21d4-4549-b54b-4e89f0eddc5c.png?raw=true)\n",
    "\n",
    "![5](https://github.com/JoseLuisRincon/UCentral/blob/master/M%C3%A9todos%20num%C3%A9ricos/Im%C3%A1genes/Instalaci%C3%B3n%20Anaconda/b64911a5-b54f-4ed8-bad4-75571bfdab7e.png?raw=true)\n",
    "\n",
    "**5.** Se inicia el instalador de Anaconda y se le da **Next**.\n",
    "\n",
    "![6](https://github.com/JoseLuisRincon/UCentral/blob/master/M%C3%A9todos%20num%C3%A9ricos/Im%C3%A1genes/Instalaci%C3%B3n%20Anaconda/019ecbbe-b177-44ea-adc6-942a06248f991.png?raw=true)\n",
    "\n",
    "**6.** Aceptamos la licencia del software en **I Agree**.\n",
    "\n",
    "![7](https://github.com/JoseLuisRincon/UCentral/blob/master/M%C3%A9todos%20num%C3%A9ricos/Im%C3%A1genes/Instalaci%C3%B3n%20Anaconda/6ad6930e-1332-4056-ab32-ea977618e12f.png?raw=true)\n",
    "\n",
    "**7.** Seleccionamos **Just Me** y clic en **Next**.\n",
    "\n",
    "![8](https://github.com/JoseLuisRincon/UCentral/blob/master/M%C3%A9todos%20num%C3%A9ricos/Im%C3%A1genes/Instalaci%C3%B3n%20Anaconda/e5dc89b8-1360-4664-a5a3-d017bab327d1.png?raw=true)\n",
    "\n",
    "**8.** Se deja la dirección establecida por defecto y **Next**.\n",
    "\n",
    "**Nota:** En caso de que no permita con la dirección, lo recomendable es volver al paso 7 y seleccionar *All Users*.\n",
    "\n",
    "![9](https://github.com/JoseLuisRincon/UCentral/blob/master/M%C3%A9todos%20num%C3%A9ricos/Im%C3%A1genes/Instalaci%C3%B3n%20Anaconda/e5dc89b8-1360-4664-a5a3-d017bab327d1.png?raw=true)\n",
    "\n",
    "**9.** Clic en **Next**.\n",
    "\n",
    "![10](https://github.com/JoseLuisRincon/UCentral/blob/master/M%C3%A9todos%20num%C3%A9ricos/Im%C3%A1genes/Instalaci%C3%B3n%20Anaconda/35587e6b-d385-46c2-8248-76f424020d9d.png?raw=true)\n",
    "\n",
    "**10.** Al completar la instalación, se puede observar la interfaz grafica de Anaconda, lista para su uso.\n",
    "\n",
    "![11](https://miro.medium.com/max/3838/1*nc-dgbKSTIAaV1vqx93acA.png)\n",
    "\n",
    "\n",
    "\n",
    "\n",
    "\n",
    "\n",
    "\n",
    "\n",
    "\n",
    "\n",
    "\n",
    "\n",
    "\n",
    "\n",
    "\n",
    "\n",
    "\n",
    "\n",
    "\n",
    "\n",
    "\n",
    "\n",
    "\n",
    "\n",
    "\n",
    "\n",
    "\n",
    "\n",
    "\n",
    "\n",
    "\n",
    "\n"
   ]
  },
  {
   "cell_type": "code",
   "execution_count": null,
   "metadata": {
    "colab": {},
    "colab_type": "code",
    "id": "mzU67nfzy8vK"
   },
   "outputs": [],
   "source": [
    " "
   ]
  }
 ],
 "metadata": {
  "colab": {
   "collapsed_sections": [],
   "name": "InstalaciónAnaconda.ipynb",
   "provenance": [],
   "toc_visible": true
  },
  "kernelspec": {
   "display_name": "Python 3",
   "language": "python",
   "name": "python3"
  },
  "language_info": {
   "codemirror_mode": {
    "name": "ipython",
    "version": 3
   },
   "file_extension": ".py",
   "mimetype": "text/x-python",
   "name": "python",
   "nbconvert_exporter": "python",
   "pygments_lexer": "ipython3",
   "version": "3.6.5"
  }
 },
 "nbformat": 4,
 "nbformat_minor": 4
}
